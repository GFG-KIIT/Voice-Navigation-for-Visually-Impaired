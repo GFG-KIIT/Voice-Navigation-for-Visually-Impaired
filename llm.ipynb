{
 "cells": [
  {
   "cell_type": "code",
   "execution_count": 7,
   "metadata": {},
   "outputs": [
    {
     "name": "stdout",
     "output_type": "stream",
     "text": [
      "Requirement already satisfied: SpeechRecognition in /home/ghost/Documents/CODE/.venv/lib64/python3.12/site-packages (from -r requirements.txt (line 1)) (3.10.4)\n",
      "Requirement already satisfied: pyttsx3 in /home/ghost/Documents/CODE/.venv/lib64/python3.12/site-packages (from -r requirements.txt (line 2)) (2.90)\n",
      "Requirement already satisfied: pyaudio in /home/ghost/Documents/CODE/.venv/lib64/python3.12/site-packages (from -r requirements.txt (line 3)) (0.2.14)\n",
      "Requirement already satisfied: setuptools in /home/ghost/Documents/CODE/.venv/lib64/python3.12/site-packages (from -r requirements.txt (line 4)) (71.1.0)\n",
      "Requirement already satisfied: text-to-speech in /home/ghost/Documents/CODE/.venv/lib64/python3.12/site-packages (from -r requirements.txt (line 5)) (1.6.1)\n",
      "Requirement already satisfied: langchain_core in /home/ghost/Documents/CODE/.venv/lib64/python3.12/site-packages (from -r requirements.txt (line 6)) (0.2.24)\n",
      "Requirement already satisfied: requests>=2.26.0 in /home/ghost/Documents/CODE/.venv/lib64/python3.12/site-packages (from SpeechRecognition->-r requirements.txt (line 1)) (2.32.3)\n",
      "Requirement already satisfied: typing-extensions in /home/ghost/Documents/CODE/.venv/lib64/python3.12/site-packages (from SpeechRecognition->-r requirements.txt (line 1)) (4.12.2)\n",
      "Requirement already satisfied: gTTS>=2.3.1 in /home/ghost/Documents/CODE/.venv/lib64/python3.12/site-packages (from text-to-speech->-r requirements.txt (line 5)) (2.5.2)\n",
      "Requirement already satisfied: PyYAML>=5.3 in /home/ghost/Documents/CODE/.venv/lib64/python3.12/site-packages (from langchain_core->-r requirements.txt (line 6)) (6.0.1)\n",
      "Requirement already satisfied: jsonpatch<2.0,>=1.33 in /home/ghost/Documents/CODE/.venv/lib64/python3.12/site-packages (from langchain_core->-r requirements.txt (line 6)) (1.33)\n",
      "Requirement already satisfied: langsmith<0.2.0,>=0.1.75 in /home/ghost/Documents/CODE/.venv/lib64/python3.12/site-packages (from langchain_core->-r requirements.txt (line 6)) (0.1.93)\n",
      "Requirement already satisfied: packaging<25,>=23.2 in /home/ghost/Documents/CODE/.venv/lib64/python3.12/site-packages (from langchain_core->-r requirements.txt (line 6)) (24.1)\n",
      "Requirement already satisfied: pydantic<3.0.0,>=2.7.4 in /home/ghost/Documents/CODE/.venv/lib64/python3.12/site-packages (from langchain_core->-r requirements.txt (line 6)) (2.8.2)\n",
      "Requirement already satisfied: tenacity!=8.4.0,<9.0.0,>=8.1.0 in /home/ghost/Documents/CODE/.venv/lib64/python3.12/site-packages (from langchain_core->-r requirements.txt (line 6)) (8.5.0)\n",
      "Requirement already satisfied: click<8.2,>=7.1 in /home/ghost/Documents/CODE/.venv/lib64/python3.12/site-packages (from gTTS>=2.3.1->text-to-speech->-r requirements.txt (line 5)) (8.1.7)\n",
      "Requirement already satisfied: jsonpointer>=1.9 in /home/ghost/Documents/CODE/.venv/lib64/python3.12/site-packages (from jsonpatch<2.0,>=1.33->langchain_core->-r requirements.txt (line 6)) (3.0.0)\n",
      "Requirement already satisfied: orjson<4.0.0,>=3.9.14 in /home/ghost/Documents/CODE/.venv/lib64/python3.12/site-packages (from langsmith<0.2.0,>=0.1.75->langchain_core->-r requirements.txt (line 6)) (3.10.6)\n",
      "Requirement already satisfied: annotated-types>=0.4.0 in /home/ghost/Documents/CODE/.venv/lib64/python3.12/site-packages (from pydantic<3.0.0,>=2.7.4->langchain_core->-r requirements.txt (line 6)) (0.7.0)\n",
      "Requirement already satisfied: pydantic-core==2.20.1 in /home/ghost/Documents/CODE/.venv/lib64/python3.12/site-packages (from pydantic<3.0.0,>=2.7.4->langchain_core->-r requirements.txt (line 6)) (2.20.1)\n",
      "Requirement already satisfied: charset-normalizer<4,>=2 in /home/ghost/Documents/CODE/.venv/lib64/python3.12/site-packages (from requests>=2.26.0->SpeechRecognition->-r requirements.txt (line 1)) (3.3.2)\n",
      "Requirement already satisfied: idna<4,>=2.5 in /home/ghost/Documents/CODE/.venv/lib64/python3.12/site-packages (from requests>=2.26.0->SpeechRecognition->-r requirements.txt (line 1)) (3.7)\n",
      "Requirement already satisfied: urllib3<3,>=1.21.1 in /home/ghost/Documents/CODE/.venv/lib64/python3.12/site-packages (from requests>=2.26.0->SpeechRecognition->-r requirements.txt (line 1)) (2.2.2)\n",
      "Requirement already satisfied: certifi>=2017.4.17 in /home/ghost/Documents/CODE/.venv/lib64/python3.12/site-packages (from requests>=2.26.0->SpeechRecognition->-r requirements.txt (line 1)) (2024.7.4)\n",
      "\n",
      "\u001b[1m[\u001b[0m\u001b[34;49mnotice\u001b[0m\u001b[1;39;49m]\u001b[0m\u001b[39;49m A new release of pip is available: \u001b[0m\u001b[31;49m24.1.2\u001b[0m\u001b[39;49m -> \u001b[0m\u001b[32;49m24.2\u001b[0m\n",
      "\u001b[1m[\u001b[0m\u001b[34;49mnotice\u001b[0m\u001b[1;39;49m]\u001b[0m\u001b[39;49m To update, run: \u001b[0m\u001b[32;49mpip install --upgrade pip\u001b[0m\n"
     ]
    }
   ],
   "source": [
    "!pip install -r requirements.txt\n",
    "import os\n",
    "from langchain_groq import ChatGroq\n",
    "from langchain_core.prompts import ChatPromptTemplate\n",
    "from langchain.chains import create_retrieval_chain\n",
    "from langchain.schema import HumanMessage"
   ]
  },
  {
   "cell_type": "code",
   "execution_count": 8,
   "metadata": {},
   "outputs": [],
   "source": [
    "from dotenv import load_dotenv\n",
    "load_dotenv()\n",
    "\n",
    "## load the Groq API key\n",
    "groq_api_key=os.environ['GROQ_API_KEY']"
   ]
  },
  {
   "cell_type": "code",
   "execution_count": 9,
   "metadata": {},
   "outputs": [
    {
     "data": {
      "text/plain": [
       "AIMessage(content='```python\\nimport webbrowser\\n\\nurl = \"https://www.wikipedia.org/\"\\nsearch_query = \"dog\"\\n\\nwebbrowser.open(url + \"w/index.php?search=\" + search_query)\\n```', response_metadata={'token_usage': {'completion_tokens': 40, 'prompt_tokens': 38, 'total_tokens': 78, 'completion_time': 0.259554524, 'prompt_time': 0.015790122, 'queue_time': None, 'total_time': 0.275344646}, 'model_name': 'Llama-3.1-70b-Versatile', 'system_fingerprint': 'fp_9260b4bb2e', 'finish_reason': 'stop', 'logprobs': None}, id='run-0518a8dc-78e8-41ef-9c5c-646a66696ed1-0', usage_metadata={'input_tokens': 38, 'output_tokens': 40, 'total_tokens': 78})"
      ]
     },
     "execution_count": 9,
     "metadata": {},
     "output_type": "execute_result"
    }
   ],
   "source": [
    "llm=ChatGroq(model=\"Llama-3.1-70b-Versatile\",temperature=0.0)\n",
    "text=\"open wikipedia & search about dog\"\n",
    "prompt=\"Can you provide me the code for the following comand using webbrowser and don't include any other comments:\"\n",
    "prompt=prompt+text\n",
    "answer=llm([HumanMessage(content=prompt)])\n",
    "answer"
   ]
  },
  {
   "cell_type": "code",
   "execution_count": 10,
   "metadata": {},
   "outputs": [
    {
     "name": "stdout",
     "output_type": "stream",
     "text": [
      "import webbrowser\n",
      "\n",
      "url = \"https://www.wikipedia.org/\"\n",
      "search_query = \"dog\"\n",
      "\n",
      "webbrowser.open(url + \"w/index.php?search=\" + search_query)\n"
     ]
    }
   ],
   "source": [
    "updated_answer=answer.content.removeprefix('Here is the code:\\n').removeprefix(\"```\").removesuffix(\"```\").removeprefix(\"python\\n\").removesuffix(\"\\n\")\n",
    "print(updated_answer) # Access the content using the .content attribute"
   ]
  },
  {
   "cell_type": "code",
   "execution_count": 11,
   "metadata": {},
   "outputs": [],
   "source": [
    "def code_run(updated_answer):\n",
    "    exec(updated_answer)"
   ]
  },
  {
   "cell_type": "code",
   "execution_count": 12,
   "metadata": {},
   "outputs": [],
   "source": [
    "code_run(updated_answer)"
   ]
  }
 ],
 "metadata": {
  "kernelspec": {
   "display_name": ".venv",
   "language": "python",
   "name": "python3"
  },
  "language_info": {
   "codemirror_mode": {
    "name": "ipython",
    "version": 3
   },
   "file_extension": ".py",
   "mimetype": "text/x-python",
   "name": "python",
   "nbconvert_exporter": "python",
   "pygments_lexer": "ipython3",
   "version": "3.12.4"
  }
 },
 "nbformat": 4,
 "nbformat_minor": 2
}
