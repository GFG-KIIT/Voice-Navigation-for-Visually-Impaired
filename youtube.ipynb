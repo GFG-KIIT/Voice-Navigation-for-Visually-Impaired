{
 "cells": [
  {
   "cell_type": "code",
   "execution_count": 12,
   "metadata": {},
   "outputs": [
    {
     "name": "stdout",
     "output_type": "stream",
     "text": [
      "Requirement already satisfied: SpeechRecognition in /home/ghost/Documents/CODE/.venv/lib64/python3.12/site-packages (from -r requirements.txt (line 1)) (3.10.4)\n",
      "Requirement already satisfied: pyttsx3 in /home/ghost/Documents/CODE/.venv/lib64/python3.12/site-packages (from -r requirements.txt (line 2)) (2.90)\n",
      "Requirement already satisfied: pyaudio in /home/ghost/Documents/CODE/.venv/lib64/python3.12/site-packages (from -r requirements.txt (line 3)) (0.2.14)\n",
      "Requirement already satisfied: setuptools in /home/ghost/Documents/CODE/.venv/lib64/python3.12/site-packages (from -r requirements.txt (line 4)) (71.1.0)\n",
      "Requirement already satisfied: text-to-speech in /home/ghost/Documents/CODE/.venv/lib64/python3.12/site-packages (from -r requirements.txt (line 5)) (1.6.1)\n",
      "Requirement already satisfied: langchain_core in /home/ghost/Documents/CODE/.venv/lib64/python3.12/site-packages (from -r requirements.txt (line 6)) (0.2.24)\n",
      "Requirement already satisfied: python-dotenv in /home/ghost/Documents/CODE/.venv/lib64/python3.12/site-packages (from -r requirements.txt (line 7)) (1.0.1)\n",
      "Requirement already satisfied: langchain_community in /home/ghost/Documents/CODE/.venv/lib64/python3.12/site-packages (from -r requirements.txt (line 8)) (0.2.10)\n",
      "Requirement already satisfied: sentence_transformers in /home/ghost/Documents/CODE/.venv/lib64/python3.12/site-packages (from -r requirements.txt (line 9)) (3.0.1)\n",
      "Requirement already satisfied: langchain_huggingface in /home/ghost/Documents/CODE/.venv/lib64/python3.12/site-packages (from -r requirements.txt (line 10)) (0.0.3)\n",
      "Requirement already satisfied: faiss-cpu in /home/ghost/Documents/CODE/.venv/lib64/python3.12/site-packages (from -r requirements.txt (line 11)) (1.8.0.post1)\n",
      "Requirement already satisfied: requests>=2.26.0 in /home/ghost/Documents/CODE/.venv/lib64/python3.12/site-packages (from SpeechRecognition->-r requirements.txt (line 1)) (2.32.3)\n",
      "Requirement already satisfied: typing-extensions in /home/ghost/Documents/CODE/.venv/lib64/python3.12/site-packages (from SpeechRecognition->-r requirements.txt (line 1)) (4.12.2)\n",
      "Requirement already satisfied: gTTS>=2.3.1 in /home/ghost/Documents/CODE/.venv/lib64/python3.12/site-packages (from text-to-speech->-r requirements.txt (line 5)) (2.5.2)\n",
      "Requirement already satisfied: PyYAML>=5.3 in /home/ghost/Documents/CODE/.venv/lib64/python3.12/site-packages (from langchain_core->-r requirements.txt (line 6)) (6.0.1)\n",
      "Requirement already satisfied: jsonpatch<2.0,>=1.33 in /home/ghost/Documents/CODE/.venv/lib64/python3.12/site-packages (from langchain_core->-r requirements.txt (line 6)) (1.33)\n",
      "Requirement already satisfied: langsmith<0.2.0,>=0.1.75 in /home/ghost/Documents/CODE/.venv/lib64/python3.12/site-packages (from langchain_core->-r requirements.txt (line 6)) (0.1.93)\n",
      "Requirement already satisfied: packaging<25,>=23.2 in /home/ghost/Documents/CODE/.venv/lib64/python3.12/site-packages (from langchain_core->-r requirements.txt (line 6)) (24.1)\n",
      "Requirement already satisfied: pydantic<3.0.0,>=2.7.4 in /home/ghost/Documents/CODE/.venv/lib64/python3.12/site-packages (from langchain_core->-r requirements.txt (line 6)) (2.8.2)\n",
      "Requirement already satisfied: tenacity!=8.4.0,<9.0.0,>=8.1.0 in /home/ghost/Documents/CODE/.venv/lib64/python3.12/site-packages (from langchain_core->-r requirements.txt (line 6)) (8.5.0)\n",
      "Requirement already satisfied: SQLAlchemy<3,>=1.4 in /home/ghost/Documents/CODE/.venv/lib64/python3.12/site-packages (from langchain_community->-r requirements.txt (line 8)) (2.0.31)\n",
      "Requirement already satisfied: aiohttp<4.0.0,>=3.8.3 in /home/ghost/Documents/CODE/.venv/lib64/python3.12/site-packages (from langchain_community->-r requirements.txt (line 8)) (3.9.5)\n",
      "Requirement already satisfied: dataclasses-json<0.7,>=0.5.7 in /home/ghost/Documents/CODE/.venv/lib64/python3.12/site-packages (from langchain_community->-r requirements.txt (line 8)) (0.6.7)\n",
      "Requirement already satisfied: langchain<0.3.0,>=0.2.9 in /home/ghost/Documents/CODE/.venv/lib64/python3.12/site-packages (from langchain_community->-r requirements.txt (line 8)) (0.2.11)\n",
      "Requirement already satisfied: numpy<2.0.0,>=1.26.0 in /home/ghost/Documents/CODE/.venv/lib64/python3.12/site-packages (from langchain_community->-r requirements.txt (line 8)) (1.26.4)\n",
      "Requirement already satisfied: transformers<5.0.0,>=4.34.0 in /home/ghost/Documents/CODE/.venv/lib64/python3.12/site-packages (from sentence_transformers->-r requirements.txt (line 9)) (4.43.3)\n",
      "Requirement already satisfied: tqdm in /home/ghost/Documents/CODE/.venv/lib64/python3.12/site-packages (from sentence_transformers->-r requirements.txt (line 9)) (4.66.4)\n",
      "Requirement already satisfied: torch>=1.11.0 in /home/ghost/Documents/CODE/.venv/lib64/python3.12/site-packages (from sentence_transformers->-r requirements.txt (line 9)) (2.4.0)\n",
      "Requirement already satisfied: scikit-learn in /home/ghost/Documents/CODE/.venv/lib64/python3.12/site-packages (from sentence_transformers->-r requirements.txt (line 9)) (1.5.1)\n",
      "Requirement already satisfied: scipy in /home/ghost/Documents/CODE/.venv/lib64/python3.12/site-packages (from sentence_transformers->-r requirements.txt (line 9)) (1.14.0)\n",
      "Requirement already satisfied: huggingface-hub>=0.15.1 in /home/ghost/Documents/CODE/.venv/lib64/python3.12/site-packages (from sentence_transformers->-r requirements.txt (line 9)) (0.24.2)\n",
      "Requirement already satisfied: Pillow in /home/ghost/Documents/CODE/.venv/lib64/python3.12/site-packages (from sentence_transformers->-r requirements.txt (line 9)) (10.4.0)\n",
      "Requirement already satisfied: tokenizers>=0.19.1 in /home/ghost/Documents/CODE/.venv/lib64/python3.12/site-packages (from langchain_huggingface->-r requirements.txt (line 10)) (0.19.1)\n",
      "Requirement already satisfied: aiosignal>=1.1.2 in /home/ghost/Documents/CODE/.venv/lib64/python3.12/site-packages (from aiohttp<4.0.0,>=3.8.3->langchain_community->-r requirements.txt (line 8)) (1.3.1)\n",
      "Requirement already satisfied: attrs>=17.3.0 in /home/ghost/Documents/CODE/.venv/lib64/python3.12/site-packages (from aiohttp<4.0.0,>=3.8.3->langchain_community->-r requirements.txt (line 8)) (23.2.0)\n",
      "Requirement already satisfied: frozenlist>=1.1.1 in /home/ghost/Documents/CODE/.venv/lib64/python3.12/site-packages (from aiohttp<4.0.0,>=3.8.3->langchain_community->-r requirements.txt (line 8)) (1.4.1)\n",
      "Requirement already satisfied: multidict<7.0,>=4.5 in /home/ghost/Documents/CODE/.venv/lib64/python3.12/site-packages (from aiohttp<4.0.0,>=3.8.3->langchain_community->-r requirements.txt (line 8)) (6.0.5)\n",
      "Requirement already satisfied: yarl<2.0,>=1.0 in /home/ghost/Documents/CODE/.venv/lib64/python3.12/site-packages (from aiohttp<4.0.0,>=3.8.3->langchain_community->-r requirements.txt (line 8)) (1.9.4)\n",
      "Requirement already satisfied: marshmallow<4.0.0,>=3.18.0 in /home/ghost/Documents/CODE/.venv/lib64/python3.12/site-packages (from dataclasses-json<0.7,>=0.5.7->langchain_community->-r requirements.txt (line 8)) (3.21.3)\n",
      "Requirement already satisfied: typing-inspect<1,>=0.4.0 in /home/ghost/Documents/CODE/.venv/lib64/python3.12/site-packages (from dataclasses-json<0.7,>=0.5.7->langchain_community->-r requirements.txt (line 8)) (0.9.0)\n",
      "Requirement already satisfied: click<8.2,>=7.1 in /home/ghost/Documents/CODE/.venv/lib64/python3.12/site-packages (from gTTS>=2.3.1->text-to-speech->-r requirements.txt (line 5)) (8.1.7)\n",
      "Requirement already satisfied: filelock in /home/ghost/Documents/CODE/.venv/lib64/python3.12/site-packages (from huggingface-hub>=0.15.1->sentence_transformers->-r requirements.txt (line 9)) (3.15.4)\n",
      "Requirement already satisfied: fsspec>=2023.5.0 in /home/ghost/Documents/CODE/.venv/lib64/python3.12/site-packages (from huggingface-hub>=0.15.1->sentence_transformers->-r requirements.txt (line 9)) (2024.6.1)\n",
      "Requirement already satisfied: jsonpointer>=1.9 in /home/ghost/Documents/CODE/.venv/lib64/python3.12/site-packages (from jsonpatch<2.0,>=1.33->langchain_core->-r requirements.txt (line 6)) (3.0.0)\n",
      "Requirement already satisfied: langchain-text-splitters<0.3.0,>=0.2.0 in /home/ghost/Documents/CODE/.venv/lib64/python3.12/site-packages (from langchain<0.3.0,>=0.2.9->langchain_community->-r requirements.txt (line 8)) (0.2.2)\n",
      "Requirement already satisfied: orjson<4.0.0,>=3.9.14 in /home/ghost/Documents/CODE/.venv/lib64/python3.12/site-packages (from langsmith<0.2.0,>=0.1.75->langchain_core->-r requirements.txt (line 6)) (3.10.6)\n",
      "Requirement already satisfied: annotated-types>=0.4.0 in /home/ghost/Documents/CODE/.venv/lib64/python3.12/site-packages (from pydantic<3.0.0,>=2.7.4->langchain_core->-r requirements.txt (line 6)) (0.7.0)\n",
      "Requirement already satisfied: pydantic-core==2.20.1 in /home/ghost/Documents/CODE/.venv/lib64/python3.12/site-packages (from pydantic<3.0.0,>=2.7.4->langchain_core->-r requirements.txt (line 6)) (2.20.1)\n",
      "Requirement already satisfied: charset-normalizer<4,>=2 in /home/ghost/Documents/CODE/.venv/lib64/python3.12/site-packages (from requests>=2.26.0->SpeechRecognition->-r requirements.txt (line 1)) (3.3.2)\n",
      "Requirement already satisfied: idna<4,>=2.5 in /home/ghost/Documents/CODE/.venv/lib64/python3.12/site-packages (from requests>=2.26.0->SpeechRecognition->-r requirements.txt (line 1)) (3.7)\n",
      "Requirement already satisfied: urllib3<3,>=1.21.1 in /home/ghost/Documents/CODE/.venv/lib64/python3.12/site-packages (from requests>=2.26.0->SpeechRecognition->-r requirements.txt (line 1)) (2.2.2)\n",
      "Requirement already satisfied: certifi>=2017.4.17 in /home/ghost/Documents/CODE/.venv/lib64/python3.12/site-packages (from requests>=2.26.0->SpeechRecognition->-r requirements.txt (line 1)) (2024.7.4)\n",
      "Requirement already satisfied: greenlet!=0.4.17 in /home/ghost/Documents/CODE/.venv/lib64/python3.12/site-packages (from SQLAlchemy<3,>=1.4->langchain_community->-r requirements.txt (line 8)) (3.0.3)\n",
      "Requirement already satisfied: sympy in /home/ghost/Documents/CODE/.venv/lib64/python3.12/site-packages (from torch>=1.11.0->sentence_transformers->-r requirements.txt (line 9)) (1.13.1)\n",
      "Requirement already satisfied: networkx in /home/ghost/Documents/CODE/.venv/lib64/python3.12/site-packages (from torch>=1.11.0->sentence_transformers->-r requirements.txt (line 9)) (3.3)\n",
      "Requirement already satisfied: jinja2 in /home/ghost/Documents/CODE/.venv/lib64/python3.12/site-packages (from torch>=1.11.0->sentence_transformers->-r requirements.txt (line 9)) (3.1.4)\n",
      "Requirement already satisfied: nvidia-cuda-nvrtc-cu12==12.1.105 in /home/ghost/Documents/CODE/.venv/lib64/python3.12/site-packages (from torch>=1.11.0->sentence_transformers->-r requirements.txt (line 9)) (12.1.105)\n",
      "Requirement already satisfied: nvidia-cuda-runtime-cu12==12.1.105 in /home/ghost/Documents/CODE/.venv/lib64/python3.12/site-packages (from torch>=1.11.0->sentence_transformers->-r requirements.txt (line 9)) (12.1.105)\n",
      "Requirement already satisfied: nvidia-cuda-cupti-cu12==12.1.105 in /home/ghost/Documents/CODE/.venv/lib64/python3.12/site-packages (from torch>=1.11.0->sentence_transformers->-r requirements.txt (line 9)) (12.1.105)\n",
      "Requirement already satisfied: nvidia-cudnn-cu12==9.1.0.70 in /home/ghost/Documents/CODE/.venv/lib64/python3.12/site-packages (from torch>=1.11.0->sentence_transformers->-r requirements.txt (line 9)) (9.1.0.70)\n",
      "Requirement already satisfied: nvidia-cublas-cu12==12.1.3.1 in /home/ghost/Documents/CODE/.venv/lib64/python3.12/site-packages (from torch>=1.11.0->sentence_transformers->-r requirements.txt (line 9)) (12.1.3.1)\n",
      "Requirement already satisfied: nvidia-cufft-cu12==11.0.2.54 in /home/ghost/Documents/CODE/.venv/lib64/python3.12/site-packages (from torch>=1.11.0->sentence_transformers->-r requirements.txt (line 9)) (11.0.2.54)\n",
      "Requirement already satisfied: nvidia-curand-cu12==10.3.2.106 in /home/ghost/Documents/CODE/.venv/lib64/python3.12/site-packages (from torch>=1.11.0->sentence_transformers->-r requirements.txt (line 9)) (10.3.2.106)\n",
      "Requirement already satisfied: nvidia-cusolver-cu12==11.4.5.107 in /home/ghost/Documents/CODE/.venv/lib64/python3.12/site-packages (from torch>=1.11.0->sentence_transformers->-r requirements.txt (line 9)) (11.4.5.107)\n",
      "Requirement already satisfied: nvidia-cusparse-cu12==12.1.0.106 in /home/ghost/Documents/CODE/.venv/lib64/python3.12/site-packages (from torch>=1.11.0->sentence_transformers->-r requirements.txt (line 9)) (12.1.0.106)\n",
      "Requirement already satisfied: nvidia-nccl-cu12==2.20.5 in /home/ghost/Documents/CODE/.venv/lib64/python3.12/site-packages (from torch>=1.11.0->sentence_transformers->-r requirements.txt (line 9)) (2.20.5)\n",
      "Requirement already satisfied: nvidia-nvtx-cu12==12.1.105 in /home/ghost/Documents/CODE/.venv/lib64/python3.12/site-packages (from torch>=1.11.0->sentence_transformers->-r requirements.txt (line 9)) (12.1.105)\n",
      "Requirement already satisfied: triton==3.0.0 in /home/ghost/Documents/CODE/.venv/lib64/python3.12/site-packages (from torch>=1.11.0->sentence_transformers->-r requirements.txt (line 9)) (3.0.0)\n",
      "Requirement already satisfied: nvidia-nvjitlink-cu12 in /home/ghost/Documents/CODE/.venv/lib64/python3.12/site-packages (from nvidia-cusolver-cu12==11.4.5.107->torch>=1.11.0->sentence_transformers->-r requirements.txt (line 9)) (12.5.82)\n",
      "Requirement already satisfied: regex!=2019.12.17 in /home/ghost/Documents/CODE/.venv/lib64/python3.12/site-packages (from transformers<5.0.0,>=4.34.0->sentence_transformers->-r requirements.txt (line 9)) (2024.7.24)\n",
      "Requirement already satisfied: safetensors>=0.4.1 in /home/ghost/Documents/CODE/.venv/lib64/python3.12/site-packages (from transformers<5.0.0,>=4.34.0->sentence_transformers->-r requirements.txt (line 9)) (0.4.3)\n",
      "Requirement already satisfied: joblib>=1.2.0 in /home/ghost/Documents/CODE/.venv/lib64/python3.12/site-packages (from scikit-learn->sentence_transformers->-r requirements.txt (line 9)) (1.4.2)\n",
      "Requirement already satisfied: threadpoolctl>=3.1.0 in /home/ghost/Documents/CODE/.venv/lib64/python3.12/site-packages (from scikit-learn->sentence_transformers->-r requirements.txt (line 9)) (3.5.0)\n",
      "Requirement already satisfied: mypy-extensions>=0.3.0 in /home/ghost/Documents/CODE/.venv/lib64/python3.12/site-packages (from typing-inspect<1,>=0.4.0->dataclasses-json<0.7,>=0.5.7->langchain_community->-r requirements.txt (line 8)) (1.0.0)\n",
      "Requirement already satisfied: MarkupSafe>=2.0 in /home/ghost/Documents/CODE/.venv/lib64/python3.12/site-packages (from jinja2->torch>=1.11.0->sentence_transformers->-r requirements.txt (line 9)) (2.1.5)\n",
      "Requirement already satisfied: mpmath<1.4,>=1.1.0 in /home/ghost/Documents/CODE/.venv/lib64/python3.12/site-packages (from sympy->torch>=1.11.0->sentence_transformers->-r requirements.txt (line 9)) (1.3.0)\n"
     ]
    }
   ],
   "source": [
    "!pip install -r requirements.txt\n",
    "import os\n",
    "from langchain_groq import ChatGroq\n",
    "from langchain_core.prompts import ChatPromptTemplate\n",
    "from langchain.chains import create_retrieval_chain\n",
    "from langchain.schema import HumanMessage"
   ]
  },
  {
   "cell_type": "code",
   "execution_count": 13,
   "metadata": {},
   "outputs": [],
   "source": [
    "from dotenv import load_dotenv\n",
    "load_dotenv()\n",
    "\n",
    "## load the Groq API key\n",
    "groq_api_key=os.environ['GROQ_API_KEY']"
   ]
  },
  {
   "cell_type": "code",
   "execution_count": 17,
   "metadata": {},
   "outputs": [
    {
     "data": {
      "text/plain": [
       "AIMessage(content='https://www.youtube.com/results?search_query=dog', response_metadata={'token_usage': {'completion_tokens': 12, 'prompt_tokens': 34, 'total_tokens': 46, 'completion_time': 0.048, 'prompt_time': 0.007630207, 'queue_time': None, 'total_time': 0.055630207}, 'model_name': 'Llama-3.1-70b-Versatile', 'system_fingerprint': 'fp_5c5d1b5cfb', 'finish_reason': 'stop', 'logprobs': None}, id='run-c18c8800-2b1d-45e7-9d8f-440c70dacc29-0', usage_metadata={'input_tokens': 34, 'output_tokens': 12, 'total_tokens': 46})"
      ]
     },
     "execution_count": 17,
     "metadata": {},
     "output_type": "execute_result"
    }
   ],
   "source": [
    "llm=ChatGroq(model=\"Llama-3.1-70b-Versatile\",temperature=0.0)\n",
    "text=\"open youtube & play video about dog directly\"\n",
    "prompt=f\"Can you provide me the url for the {text} and don't include any other comments:\"\n",
    "answer=llm([HumanMessage(content=prompt)])\n",
    "answer"
   ]
  },
  {
   "cell_type": "code",
   "execution_count": 19,
   "metadata": {},
   "outputs": [
    {
     "data": {
      "text/plain": [
       "'https://www.youtube.com/results?search_query=dog'"
      ]
     },
     "execution_count": 19,
     "metadata": {},
     "output_type": "execute_result"
    }
   ],
   "source": [
    "answer.content"
   ]
  },
  {
   "cell_type": "code",
   "execution_count": 16,
   "metadata": {},
   "outputs": [],
   "source": [
    "exec(updated_answer)"
   ]
  },
  {
   "cell_type": "code",
   "execution_count": null,
   "metadata": {},
   "outputs": [],
   "source": []
  }
 ],
 "metadata": {
  "kernelspec": {
   "display_name": ".venv",
   "language": "python",
   "name": "python3"
  },
  "language_info": {
   "codemirror_mode": {
    "name": "ipython",
    "version": 3
   },
   "file_extension": ".py",
   "mimetype": "text/x-python",
   "name": "python",
   "nbconvert_exporter": "python",
   "pygments_lexer": "ipython3",
   "version": "3.12.4"
  }
 },
 "nbformat": 4,
 "nbformat_minor": 2
}
